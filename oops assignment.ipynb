{
 "cells": [
  {
   "cell_type": "markdown",
   "id": "47c1e717",
   "metadata": {},
   "source": [
    "#QUESTION1     "
   ]
  },
  {
   "cell_type": "code",
   "execution_count": 4,
   "id": "a5b96719",
   "metadata": {},
   "outputs": [
    {
     "name": "stdout",
     "output_type": "stream",
     "text": [
      "Sales Department child class created\n",
      "111 sales 10\n",
      "Accounts Department child class created\n",
      "122 accounts 8\n",
      "purchase Department child class created\n",
      "123 purchase 90\n",
      "production Department child class created\n",
      "144 procudtion 78\n"
     ]
    }
   ],
   "source": [
    "class departments:\n",
    "    def __init__(self, deptId,deptname,noOfstaff):\n",
    "        self.deptId=deptId\n",
    "        self.deptname=deptname\n",
    "        self.noOfstaff=noOfstaff\n",
    "        \n",
    "class sales(departments):\n",
    "    print('Sales Department child class created')\n",
    "    def display(self):\n",
    "        print(self.deptId,self.deptname,self.noOfstaff)\n",
    "P=sales(111,\"sales\",10)\n",
    "P.display()\n",
    "class accounts(departments):\n",
    "    print('Accounts Department child class created')\n",
    "    def display(self):\n",
    "        print(self.deptId,self.deptname,self.noOfstaff)\n",
    "Q=accounts(122,\"accounts\",8)\n",
    "Q.display()\n",
    "class purchase(departments):\n",
    "    print('purchase Department child class created')\n",
    "    def display(self):\n",
    "        print(self.deptId,self.deptname,self.noOfstaff)\n",
    "R=purchase(123,\"purchase\",90)\n",
    "R.display()\n",
    "class production(departments):\n",
    "    print('production Department child class created')\n",
    "    def display(self):\n",
    "        print(self.deptId,self.deptname,self.noOfstaff)\n",
    "S=production(144,\"procudtion\",78)\n",
    "S.display()"
   ]
  },
  {
   "cell_type": "markdown",
   "id": "1c2da0dd",
   "metadata": {},
   "source": [
    "#QUESTION2 "
   ]
  },
  {
   "cell_type": "code",
   "execution_count": 2,
   "id": "fbbbbe4f",
   "metadata": {},
   "outputs": [],
   "source": [
    "from abc import ABC, abstractmethod   \n",
    "class Car(ABC):   \n",
    "    def mileage(self):   \n",
    "        pass\n",
    "    def speed(self):\n",
    "        pass\n",
    "    def pricefunctons(self):\n",
    "        pass\n",
    "class Maruthi800(Car):   \n",
    "    def mileage(self):   \n",
    "        print(\"The mileage is 30kmph\")\n",
    "    def speed(self):\n",
    "        print(\"speed is 60kmph\")\n",
    "    def pricefunctions(self):\n",
    "        print(80000)\n",
    "class MaruthiZen(Car):   \n",
    "    def mileage(self):   \n",
    "        print(\"The mileage is 25kmph \")\n",
    "    def speed(self):\n",
    "        print(\"speed is 60kmph\")\n",
    "    def pricefunctions(self):\n",
    "        print(90000)\n",
    "        "
   ]
  },
  {
   "cell_type": "code",
   "execution_count": 3,
   "id": "6294e9ad",
   "metadata": {},
   "outputs": [
    {
     "name": "stdout",
     "output_type": "stream",
     "text": [
      "The mileage is 30kmph\n",
      "speed is 60kmph\n",
      "80000\n",
      "The mileage is 25kmph \n",
      "speed is 60kmph\n",
      "90000\n"
     ]
    }
   ],
   "source": [
    "m800=Maruthi800()\n",
    "m800.mileage()\n",
    "m800.speed()\n",
    "m800.pricefunctions()\n",
    "\n",
    "mzen=MaruthiZen()\n",
    "mzen.mileage()\n",
    "mzen.speed()\n",
    "mzen.pricefunctions()"
   ]
  },
  {
   "cell_type": "markdown",
   "id": "81c5ca65",
   "metadata": {},
   "source": [
    "# QUESTION3"
   ]
  },
  {
   "cell_type": "code",
   "execution_count": 10,
   "id": "18a1258d",
   "metadata": {},
   "outputs": [
    {
     "name": "stdout",
     "output_type": "stream",
     "text": [
      "Connected to the database successfully\n",
      "Table is ready\n",
      "Records created successfully\n",
      "\n",
      "\n",
      "First Name:  Sonoo\n",
      "Last Name:  Jaiswal\n",
      "Marks:  60\n",
      "\n",
      "\n",
      "First Name:  James\n",
      "Last Name:  William\n",
      "Marks:  80\n",
      "\n",
      "\n",
      "First Name:  Swati\n",
      "Last Name:  Sironi\n",
      "Marks:  82\n",
      "\n",
      "\n",
      "First Name:  Chetna\n",
      "Last Name:  Singh\n",
      "Marks:  72\n",
      "\n",
      "\n",
      "Operation completed successfully\n"
     ]
    }
   ],
   "source": [
    "# Connecting to the database\n",
    "import sqlite3\n",
    "conn = sqlite3.connect('test.db')\n",
    "print(\"Connected to the database successfully\")\n",
    "# cursor object\n",
    "cursor_obj = conn.cursor()\n",
    " \n",
    "# Drop the GEEK table if already exists.\n",
    "cursor_obj.execute(\"DROP TABLE IF EXISTS GEEK\")\n",
    "\n",
    "# Creating a table\n",
    "table = \"\"\" CREATE TABLE STUDENTS (\n",
    "            First_Name CHAR(25) NOT NULL,\n",
    "            Last_Name CHAR(25),\n",
    "            Marks INT); \"\"\"\n",
    " \n",
    "cursor_obj.execute(table)\n",
    "print(\"Table is ready\")\n",
    "\n",
    "# Inserting values into the table\n",
    "cursor_obj.execute(\"INSERT INTO STUDENTS (First_Name, Last_Name, Marks)\\\n",
    "            VALUES ('Sonoo', 'Jaiswal', 60)\")\n",
    "\n",
    "cursor_obj.execute(\"INSERT INTO STUDENTS (First_Name, Last_Name, Marks)\\\n",
    "            VALUES ('James', 'William', 80)\")\n",
    "\n",
    "cursor_obj.execute(\"INSERT INTO STUDENTS (First_Name, Last_Name, Marks)\\\n",
    "            VALUES ('Swati', 'Sironi', 82)\")\n",
    "\n",
    "cursor_obj.execute(\"INSERT INTO STUDENTS (First_Name, Last_Name, Marks)\\\n",
    "            VALUES ('Chetna', 'Singh', 72)\")\n",
    "\n",
    "conn.commit()\n",
    "print(\"Records created successfully\")\n",
    "\n",
    "print(\"\\n\")\n",
    "# SELECT Operation\n",
    "cursor = cursor_obj.execute(\"SELECT First_Name, Last_Name, Marks from STUDENTS\")\n",
    "for row in cursor:\n",
    "  print(\"First Name: \", row[0])\n",
    "  print(\"Last Name: \", row[1])\n",
    "  print(\"Marks: \", row[2])\n",
    "  print(\"\\n\")\n",
    "\n",
    "print(\"Operation completed successfully\")\n",
    "cursor_obj.close()\n",
    "conn.close()"
   ]
  },
  {
   "cell_type": "code",
   "execution_count": null,
   "id": "337e3a48",
   "metadata": {},
   "outputs": [],
   "source": []
  }
 ],
 "metadata": {
  "kernelspec": {
   "display_name": "Python 3",
   "language": "python",
   "name": "python3"
  },
  "language_info": {
   "codemirror_mode": {
    "name": "ipython",
    "version": 3
   },
   "file_extension": ".py",
   "mimetype": "text/x-python",
   "name": "python",
   "nbconvert_exporter": "python",
   "pygments_lexer": "ipython3",
   "version": "3.8.8"
  }
 },
 "nbformat": 4,
 "nbformat_minor": 5
}
