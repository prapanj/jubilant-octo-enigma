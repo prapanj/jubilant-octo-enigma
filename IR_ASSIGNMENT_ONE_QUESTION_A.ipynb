{
  "nbformat": 4,
  "nbformat_minor": 0,
  "metadata": {
    "colab": {
      "provenance": []
    },
    "kernelspec": {
      "name": "python3",
      "display_name": "Python 3"
    },
    "language_info": {
      "name": "python"
    }
  },
  "cells": [
    {
      "cell_type": "code",
      "execution_count": null,
      "metadata": {
        "id": "pxGiA5-EEYQM"
      },
      "outputs": [],
      "source": []
    },
    {
      "cell_type": "markdown",
      "source": [
        "Implementing a simple information retrieval model in Python that are capable of processing boolean queries"
      ],
      "metadata": {
        "id": "8zimqngIElfz"
      }
    },
    {
      "cell_type": "code",
      "source": [
        "import nltk\n",
        "from nltk.corpus import stopwords\n",
        "from nltk.stem import WordNetLemmatizer, PorterStemmer\n",
        "from nltk.tokenize import sent_tokenize , word_tokenize\n",
        "import glob\n",
        "import re\n",
        "import os\n",
        "import numpy as np\n",
        "import sys"
      ],
      "metadata": {
        "id": "r8y5LtI6Eqa_"
      },
      "execution_count": 1,
      "outputs": []
    },
    {
      "cell_type": "code",
      "source": [
        "\n",
        "import nltk\n",
        "nltk.download('stopwords')\n",
        "from nltk.corpus import stopwords\n",
        "Stopwords = set(stopwords.words('english'))"
      ],
      "metadata": {
        "colab": {
          "base_uri": "https://localhost:8080/"
        },
        "id": "1SmwLn5aEtC7",
        "outputId": "62c7254a-5bc4-4100-a597-aa3084fd464d"
      },
      "execution_count": 2,
      "outputs": [
        {
          "output_type": "stream",
          "name": "stderr",
          "text": [
            "[nltk_data] Downloading package stopwords to /root/nltk_data...\n",
            "[nltk_data]   Unzipping corpora/stopwords.zip.\n"
          ]
        }
      ]
    },
    {
      "cell_type": "code",
      "source": [
        "def finding_all_unique_words_and_freq(words):\n",
        "    words_unique = []\n",
        "    word_freq = {}\n",
        "    for word in words:\n",
        "        if word not in words_unique:\n",
        "            words_unique.append(word)\n",
        "    for word in words_unique:\n",
        "        word_freq[word] = words.count(word)\n",
        "    return word_freq\n",
        "def finding_freq_of_word_in_doc(word,words):\n",
        "    freq = words.count(word)\n",
        "        \n",
        "def remove_special_characters(text):\n",
        "    regex = re.compile('[^a-zA-Z0-9\\s]')\n",
        "    text_returned = re.sub(regex,'',text)\n",
        "    return text_returned"
      ],
      "metadata": {
        "id": "CUOu00-fEx7y"
      },
      "execution_count": 3,
      "outputs": []
    },
    {
      "cell_type": "code",
      "source": [
        "class Node:\n",
        "    def __init__(self ,docId, freq = None):\n",
        "        self.freq = freq\n",
        "        self.doc = docId\n",
        "        self.nextval = None\n",
        "    \n",
        "class SlinkedList:\n",
        "    def __init__(self ,head = None):\n",
        "        self.head = head"
      ],
      "metadata": {
        "id": "FuwMg2RPE1Ac"
      },
      "execution_count": 4,
      "outputs": []
    },
    {
      "cell_type": "code",
      "source": [
        "import nltk\n",
        "nltk.download('punkt')"
      ],
      "metadata": {
        "colab": {
          "base_uri": "https://localhost:8080/"
        },
        "id": "KeKjZMTbE4RL",
        "outputId": "6c3e413e-cedd-4f92-e6da-26aae0b75208"
      },
      "execution_count": 5,
      "outputs": [
        {
          "output_type": "stream",
          "name": "stderr",
          "text": [
            "[nltk_data] Downloading package punkt to /root/nltk_data...\n",
            "[nltk_data]   Unzipping tokenizers/punkt.zip.\n"
          ]
        },
        {
          "output_type": "execute_result",
          "data": {
            "text/plain": [
              "True"
            ]
          },
          "metadata": {},
          "execution_count": 5
        }
      ]
    },
    {
      "cell_type": "code",
      "source": [
        "all_words = []\n",
        "dict_global = {}\n",
        "file_folder = '/content/drive/MyDrive/IR ASSIGNMENT DATASET/*'\n",
        "idx = 1\n",
        "files_with_index = {}\n",
        "for file in glob.glob(file_folder):\n",
        "    print(file)\n",
        "    fname = file\n",
        "    file = open(file , \"r\")\n",
        "    text = file.read()\n",
        "    text = remove_special_characters(text)\n",
        "    text = re.sub(re.compile('\\d'),'',text)\n",
        "    sentences = sent_tokenize(text)\n",
        "    words = word_tokenize(text)\n",
        "    words = [word for word in words if len(words)>1]\n",
        "    words = [word.lower() for word in words]\n",
        "    words = [word for word in words if word not in Stopwords]\n",
        "    dict_global.update(finding_all_unique_words_and_freq(words))\n",
        "    files_with_index[idx] = os.path.basename(fname)\n",
        "    idx = idx + 1\n",
        "    \n",
        "unique_words_all = set(dict_global.keys())"
      ],
      "metadata": {
        "colab": {
          "base_uri": "https://localhost:8080/"
        },
        "id": "z13JQIRvE61J",
        "outputId": "f42853f0-4586-49b7-de41-cf8221ddec10"
      },
      "execution_count": 11,
      "outputs": [
        {
          "output_type": "stream",
          "name": "stdout",
          "text": [
            "/content/drive/MyDrive/IR ASSIGNMENT DATASET/Greuze3.txt\n",
            "/content/drive/MyDrive/IR ASSIGNMENT DATASET/Greuze2.txt\n",
            "/content/drive/MyDrive/IR ASSIGNMENT DATASET/Greuze1.txt\n"
          ]
        }
      ]
    },
    {
      "cell_type": "code",
      "source": [
        "linked_list_data = {}\n",
        "for word in unique_words_all:\n",
        "    linked_list_data[word] = SlinkedList()\n",
        "    linked_list_data[word].head = Node(1,Node)\n",
        "word_freq_in_doc = {}\n",
        "idx = 1\n",
        "for file in glob.glob(file_folder):\n",
        "    file = open(file, \"r\")\n",
        "    text = file.read()\n",
        "    text = remove_special_characters(text)\n",
        "    text = re.sub(re.compile('\\d'),'',text)\n",
        "    sentences = sent_tokenize(text)\n",
        "    words = word_tokenize(text)\n",
        "    words = [word for word in words if len(words)>1]\n",
        "    words = [word.lower() for word in words]\n",
        "    words = [word for word in words if word not in Stopwords]\n",
        "    word_freq_in_doc = finding_all_unique_words_and_freq(words)\n",
        "    for word in word_freq_in_doc.keys():\n",
        "        linked_list = linked_list_data[word].head\n",
        "        while linked_list.nextval is not None:\n",
        "            linked_list = linked_list.nextval\n",
        "        linked_list.nextval = Node(idx ,word_freq_in_doc[word])\n",
        "    idx = idx + 1"
      ],
      "metadata": {
        "id": "mT_Q-F7hFJBo"
      },
      "execution_count": 12,
      "outputs": []
    },
    {
      "cell_type": "markdown",
      "source": [
        "Query processing and output generation"
      ],
      "metadata": {
        "id": "NZ58lxC1HivG"
      }
    },
    {
      "cell_type": "code",
      "source": [
        "query = input('Enter your query:')\n",
        "query = word_tokenize(query)\n",
        "connecting_words = []\n",
        "cnt = 1\n",
        "different_words = []\n",
        "for word in query:\n",
        "    if word.lower() != \"and\" and word.lower() != \"or\" and word.lower() != \"not\":\n",
        "        different_words.append(word.lower())\n",
        "    else:\n",
        "        connecting_words.append(word.lower())\n",
        "print(connecting_words)\n",
        "total_files = len(files_with_index)\n",
        "zeroes_and_ones = []\n",
        "zeroes_and_ones_of_all_words = []\n",
        "for word in (different_words):\n",
        "    if word.lower() in unique_words_all:\n",
        "        zeroes_and_ones = [0] * total_files\n",
        "        linkedlist = linked_list_data[word].head\n",
        "        print(word)\n",
        "        while linkedlist.nextval is not None:\n",
        "            zeroes_and_ones[linkedlist.nextval.doc - 1] = 1\n",
        "            linkedlist = linkedlist.nextval\n",
        "        zeroes_and_ones_of_all_words.append(zeroes_and_ones)\n",
        "    else:\n",
        "        print(word,\" not found\")\n",
        "        sys.exit()\n",
        "print(zeroes_and_ones_of_all_words)\n",
        "for word in connecting_words:\n",
        "    word_list1 = zeroes_and_ones_of_all_words[0]\n",
        "    word_list2 = zeroes_and_ones_of_all_words[1]\n",
        "    if word == \"and\":\n",
        "        bitwise_op = [w1 & w2 for (w1,w2) in zip(word_list1,word_list2)]\n",
        "        zeroes_and_ones_of_all_words.remove(word_list1)\n",
        "        zeroes_and_ones_of_all_words.remove(word_list2)\n",
        "        zeroes_and_ones_of_all_words.insert(0, bitwise_op);\n",
        "    elif word == \"or\":\n",
        "        bitwise_op = [w1 | w2 for (w1,w2) in zip(word_list1,word_list2)]\n",
        "        zeroes_and_ones_of_all_words.remove(word_list1)\n",
        "        zeroes_and_ones_of_all_words.remove(word_list2)\n",
        "        zeroes_and_ones_of_all_words.insert(0, bitwise_op);\n",
        "    elif word == \"not\":\n",
        "        bitwise_op = [not w1 for w1 in word_list2]\n",
        "        bitwise_op = [int(b == True) for b in bitwise_op]\n",
        "        zeroes_and_ones_of_all_words.remove(word_list2)\n",
        "        zeroes_and_ones_of_all_words.remove(word_list1)\n",
        "        bitwise_op = [w1 & w2 for (w1,w2) in zip(word_list1,bitwise_op)];zeroes_and_ones_of_all_words.insert(0, bitwise_op);\n",
        "        \n",
        "files = []    \n",
        "print(zeroes_and_ones_of_all_words)\n",
        "lis = zeroes_and_ones_of_all_words[0]\n",
        "cnt = 1\n",
        "for index in lis:\n",
        "    if index == 1:\n",
        "        files.append(files_with_index[cnt])\n",
        "    cnt = cnt+1\n",
        "    \n",
        "print(files)"
      ],
      "metadata": {
        "colab": {
          "base_uri": "https://localhost:8080/"
        },
        "id": "cuF3oULWHhPR",
        "outputId": "f6dfe518-ec74-4c68-dd72-1cc4496c8de1"
      },
      "execution_count": 13,
      "outputs": [
        {
          "output_type": "stream",
          "name": "stdout",
          "text": [
            "Enter your query:story lies\n",
            "[]\n",
            "story\n",
            "lies\n",
            "[[0, 1, 1], [0, 1, 0]]\n",
            "[[0, 1, 1], [0, 1, 0]]\n",
            "['Greuze2.txt', 'Greuze1.txt']\n"
          ]
        }
      ]
    },
    {
      "cell_type": "code",
      "source": [],
      "metadata": {
        "id": "DIPOIc_XH7F8"
      },
      "execution_count": null,
      "outputs": []
    }
  ]
}